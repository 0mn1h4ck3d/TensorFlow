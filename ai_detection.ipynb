{
  "nbformat": 4,
  "nbformat_minor": 0,
  "metadata": {
    "colab": {
      "provenance": [],
      "gpuType": "T4",
      "authorship_tag": "ABX9TyPrCJVw9JVXdJvNp63fP6Ij",
      "include_colab_link": true
    },
    "kernelspec": {
      "name": "python3",
      "display_name": "Python 3"
    },
    "language_info": {
      "name": "python"
    },
    "accelerator": "GPU"
  },
  "cells": [
    {
      "cell_type": "markdown",
      "metadata": {
        "id": "view-in-github",
        "colab_type": "text"
      },
      "source": [
        "<a href=\"https://colab.research.google.com/github/0mn1h4ck3d/TensorFlow/blob/main/ai_detection.ipynb\" target=\"_parent\"><img src=\"https://colab.research.google.com/assets/colab-badge.svg\" alt=\"Open In Colab\"/></a>"
      ]
    },
    {
      "cell_type": "markdown",
      "source": [
        "## Project Title: AI vs. Human Text Classifier\n",
        "\n",
        "### **Overview**\n",
        "\n",
        "This project develops a machine learning model capable of distinguishing between AI-generated and human-written text. With the rapid advancement in AI language models, distinguishing between text written by humans and AI has become increasingly challenging. This classifier aims to address this challenge by accurately predicting the origin of a given piece of text, thereby contributing to fields such as content verification, digital forensics, and the study of AI-generated disinformation.\n",
        "\n",
        "### **Objectives**\n",
        "\n",
        "- To implement a binary classification model that identifies whether a given text is AI-generated or human-written.\n",
        "\n",
        "- To explore and compare different machine learning and deep learning techniques for natural language processing (NLP) tasks.\n",
        "\n",
        "- To evaluate the model's performance using standard metrics such as accuracy, precision, recall, and F1 score.\n",
        "\n",
        "### **Data**\n",
        "\n",
        "The dataset consists of numerous text samples labeled as '0' for human-written and '1' for AI-generated. These samples encompass a wide range of topics and styles to ensure the model's robustness and generalizability. Data preprocessing steps, including tokenization, sequence padding, and vectorization, were meticulously applied to prepare the data for training.\n",
        "\n",
        "### **Methodology**\n",
        "\n",
        "- **Data Preprocessing**: Utilized TensorFlow's Tokenizer and pad_sequences to convert text data into a numerical format that can be fed into neural networks.\n",
        "\n",
        "- **Model Architecture**: Developed a Sequential model using TensorFlow Keras, incorporating an Embedding layer followed by GlobalAveragePooling1D and Dense layers, optimized for binary classification tasks.\n",
        "\n",
        "- **Training and Validation**: Employed a split of training and validation data to fine-tune the model, using binary cross-entropy as the loss function and accuracy as the performance metric.\n",
        "\n",
        "- **Evaluation**: Assessed the model's performance on a held-out test set and utilized various metrics to ensure reliability and effectiveness in classifying text origins.\n",
        "\n",
        "### **Results**\n",
        "\n",
        "The model demonstrated promising results in distinguishing between AI-generated and human-written texts, with high accuracy and other performance metrics indicating its potential utility in real-world applications. Further tuning and experimentation with different model architectures, such as Convolutional Neural Networks (CNNs) and Recurrent Neural Networks (RNNs), are planned to enhance its predictive capabilities. The model, overall has nearly 100% accuracy and 0.00 loss."
      ],
      "metadata": {
        "id": "LLCiAwotYcIx"
      }
    },
    {
      "cell_type": "markdown",
      "source": [
        "# Preparing data (becoming one)"
      ],
      "metadata": {
        "id": "pR3tGWgFZ2PL"
      }
    },
    {
      "cell_type": "code",
      "source": [
        "# Mounting Google Drive\n",
        "from google.colab import drive\n",
        "drive.mount('/content/drive')"
      ],
      "metadata": {
        "colab": {
          "base_uri": "https://localhost:8080/"
        },
        "id": "uzgkGITuS_gb",
        "outputId": "a57c0ba0-c3d8-4252-9cd9-8860e479a5a8"
      },
      "execution_count": 1,
      "outputs": [
        {
          "output_type": "stream",
          "name": "stdout",
          "text": [
            "Mounted at /content/drive\n"
          ]
        }
      ]
    },
    {
      "cell_type": "code",
      "execution_count": 2,
      "metadata": {
        "id": "_nPUKOGiRqGX"
      },
      "outputs": [],
      "source": [
        "# Unzipping file\n",
        "import zipfile\n",
        "zip_ref = zipfile.ZipFile('/content/drive/MyDrive/TensorFlow/AI_Human.csv.zip')\n",
        "zip_ref.extractall()\n",
        "zip_ref.close()"
      ]
    },
    {
      "cell_type": "code",
      "source": [
        "import pandas as pd\n",
        "import matplotlib.pyplot as plt\n",
        "\n",
        "# Load the dataset with specified data types\n",
        "data = pd.read_csv('AI_Human.csv', dtype={'text': str, 'generated': float})\n",
        "\n",
        "# Display the first few rows\n",
        "print(data.head())\n",
        "\n",
        "# Count the occurrences of each category\n",
        "category_counts = data['generated'].value_counts()\n",
        "\n",
        "# Create a bar chart\n",
        "plt.figure(figsize=(8, 6))\n",
        "plt.bar(category_counts.index.astype(str), category_counts.values, color=['blue', 'green'])\n",
        "plt.title('Distribution of Text Categories')\n",
        "plt.xlabel('Category')\n",
        "plt.ylabel('Count')\n",
        "plt.xticks([0, 1], ['Human-written (0.0)', 'AI-generated (1.0)'])\n",
        "plt.show()"
      ],
      "metadata": {
        "colab": {
          "base_uri": "https://localhost:8080/",
          "height": 666
        },
        "id": "i3EHSypGTwkQ",
        "outputId": "9efe16da-f40b-4343-82d5-c266971a525d"
      },
      "execution_count": 3,
      "outputs": [
        {
          "output_type": "stream",
          "name": "stdout",
          "text": [
            "                                                text  generated\n",
            "0  Cars. Cars have been around since they became ...        0.0\n",
            "1  Transportation is a large necessity in most co...        0.0\n",
            "2  \"America's love affair with it's vehicles seem...        0.0\n",
            "3  How often do you ride in a car? Do you drive a...        0.0\n",
            "4  Cars are a wonderful thing. They are perhaps o...        0.0\n"
          ]
        },
        {
          "output_type": "display_data",
          "data": {
            "text/plain": [
              "<Figure size 800x600 with 1 Axes>"
            ],
            "image/png": "[encoded data removed]"
          },
          "metadata": {}
        }
      ]
    },
    {
      "cell_type": "code",
      "source": [
        "# Removing tags\n",
        "def remove_tags(text):\n",
        "    tags = ['\\n', '\\'']\n",
        "    for tag in tags:\n",
        "        text = text.replace(tag, '')\n",
        "\n",
        "    return text\n",
        "\n",
        "\n",
        "data['text'] = data['text'].apply(remove_tags)"
      ],
      "metadata": {
        "id": "C1SVaFUhUCWe"
      },
      "execution_count": 4,
      "outputs": []
    },
    {
      "cell_type": "code",
      "source": [
        "import random\n",
        "\n",
        "data['text'][random.randint(0,100)]"
      ],
      "metadata": {
        "colab": {
          "base_uri": "https://localhost:8080/",
          "height": 154
        },
        "id": "4Zdq5wcqZ5Z3",
        "outputId": "30f86185-3258-4e20-a874-83b0767e646b"
      },
      "execution_count": 5,
      "outputs": [
        {
          "output_type": "execute_result",
          "data": {
            "text/plain": [
              "'The Electoral College?Some would say this way of voting is a lack of democratic pedigree and should be abolished. The Electoral College is when the people vote for the electors who are declaring the candidate who recieves the most popular vote. This act is not only unfair but injustice as well. The people should be able to vote directly on who they choose to govern over them. But instead were using plurality, when a candidate receives more votes than other candidates while not receiving a clear majority of votes. Someone is chosen to speak for them. The Electoral College is very irrational and should be removed from the voting process system.Its known to be said that those voting for slate of electorss half the time dont know what theyre voting for. Some states have reported that they have yet to see campaign ads, or news regarding the election and therefore dont actually know who to pick. The president goes to the states heshe may think have \"swing\" votes and lets himherself be known pubilically to gain more votes. This is a desirable result because a candidate with only regional appeal is unlikely to be a successful president. But what about the states who arent caught up to the political races and would like to know more about it. They may feel disenfranchised to feel that their votes don not matter. They may feel the new president may disregard their interest and is not interested in being everyones president. People may believe by voting it goes directly to the candidate but in fact it goes to the electorss, who vote. When a vote is placed to a certain candidate it doesnt nessicisarly mean they are going to win. They may win the vote but could lose the presidency. Itd be better if everyone just had a say individually of who they wanted to take president. The Electoral College wasnt a very logical idea.\"Electors\" ? the Electors are slate of electorss who parties have selected to make a trusted vote towards the partys nominee.Source 3, In Defense Of The Elecoral College: Five Reasons T o Keep Our Despised Method Of Choosing The President States that the Electors are rare for the trust to be betrayed, however it is entirely possible that the winner of the electorsal vote will not win the national popular vote. This hasnt happened sense 2000, when Gore had more popular votes then Bush yet fewer electorsal votes, but that was first time since 1888. But whos to say it can happen again. The Electoral College is a chance being taken that you may or may not win the election based on how many popular votes said person may recieve. This is no shocker that there have been disputes over the outcome of an Electoral College vote, its based on winnertakesall basis. Source 3, The Electoral College avoids the problem of elections in which no candidate recieves a majority of the votes cast. This creates pressure for runoff elections, but is reduced by the Electoral College, which invariably produces a clear winner. Voters in a presidential election are people who want to express a political prefernece rather than people who think that a single vote may decide an election, but thats false.The Electoral College? Its not one of the more favorable elections, and is sought out to be uncanny and unfit. The Electoral College is a way for people to interact with the politics taken place, but are manipulated into something else that takes away from being able to have a say in something that will effect said person. We live in a democracy, which means we vote but how can we vote when we dont know who were voting for. The voting system should remain how it is, with willing participants placing a ballant and knowing that their vote is actually going to matter.'"
            ],
            "application/vnd.google.colaboratory.intrinsic+json": {
              "type": "string"
            }
          },
          "metadata": {},
          "execution_count": 5
        }
      ]
    },
    {
      "cell_type": "code",
      "source": [
        "# Removing punctuation\n",
        "import string\n",
        "\n",
        "string.punctuation\n",
        "\n",
        "def remove_punc(text):\n",
        "    new_text = [x for x in text if x not in string.punctuation]\n",
        "    new_text = ''.join(new_text)\n",
        "    return new_text"
      ],
      "metadata": {
        "id": "nZx9RgrPjJCJ"
      },
      "execution_count": 6,
      "outputs": []
    },
    {
      "cell_type": "code",
      "source": [
        "data['text']=data['text'].apply(remove_punc)\n",
        "data['text'][random.randint(0,100)]"
      ],
      "metadata": {
        "colab": {
          "base_uri": "https://localhost:8080/",
          "height": 154
        },
        "id": "gH2HHQ7sjPyn",
        "outputId": "4cb3a4c8-5995-4e9a-9af9-1ee8b3051a28"
      },
      "execution_count": 7,
      "outputs": [
        {
          "output_type": "execute_result",
          "data": {
            "text/plain": [
              "'Voting Voting is a pretty big deal that only comes around so many years And with voting the citizens of the US have a voice And also the voting method in which the president is elected by popular votes is just fine and it should be the only way people vote for their president No one else should vote for them The people have the right to choose who ever they want And no one has the right to vote for any other person but them The popular is just fine because first of all the popular vote for president method is more fair than the electoral college voting method Secondly the popular vote for president is less complicated where as the electoral college can cause complications and problemsTo start off the popular vote for president is more fair than the electoral college First there really is no way of cheating in the popular vote method because people vote once for whom ever they want to be president out of the people elected and then the president is chosen that way The popular votes method is more fair because candidates spend a little time in every if not majority of the states depending on how much time they have But as stated in the article written by Bradford Plumer in the electoral college voting method candidates dont spend time in states they know they have no chance of winning focusing only on the tight races in the swing states That is not fair every state should be able to see the candidates who are going to be serving the country and see what they are like and how they can help the country And this has happened before where the candidates didnt even bother showing up in some of the states One example would be as stated in the article By Bradford Plumer during the 2000 campaign seventeen states didnt see the candidates at all including Rhode Island and South Carolina and voters in 25 of the largest media markets didnt get to see a single campaign ad Now how on earth can people vote for their new president if they have absoloutley no idea of what the president is capable of doing to help or even hurt the countryNext the popular vote for president is less complicated unlike the electoral college where complications problems and just a big mess could happen With the popular vote it is pretty straight forward and simple The people vote for whom ever they want to be their next president and serve the country the votes get counted up and whoever has the most votes gets to be the new president But with the electoral college if a tie had occured as stated in the article written by Bradford Plumer the election would be thrown to the House of Representatives where state delegations vote on the presidentThe Senate would choose the vicepresident Because each state casts only one vote the single from Wyoming representing 500000 voters would have as much say as the 55 representatives from California who represent 35 million voters Now that sure seems to be complicated Just one vote represents 500000 or 35 million voters The popular vote method is a lot more simple it doesnt require all of these steps With the popular vote everyone votes and the majority of the votes is the winner as simple as that It doesnt require going to the representatives who vote for themselves and a whole bunch of other people as wellIn conclusion the popular vote method is better because it is more fair It gives people a voice to choose for whom ever they want not what anybody else wants Also the popular vote method is a whole lot less complicated than the electoral college Where if there is a tie the representatives vote for themselves and are also representing thousands of other people who may or may not want that specific candidate to be president So voting is no joke it is serious and it shouldnt be taken as a joke either Every person should have a voice they should be able to vote for who ever they desire No one else should be able to vote for them not even the representatives Voting is no joke'"
            ],
            "application/vnd.google.colaboratory.intrinsic+json": {
              "type": "string"
            }
          },
          "metadata": {},
          "execution_count": 7
        }
      ]
    },
    {
      "cell_type": "code",
      "source": [
        "from sklearn.model_selection import train_test_split\n",
        "\n",
        "# Splitting data\n",
        "y=data['generated']\n",
        "X=data['text']\n",
        "\n",
        "X_train, X_test, y_train, y_test = train_test_split(X,y,test_size=0.3,random_state=42)\n",
        "\n",
        "print(len(X_train))\n",
        "print(len(y_train))"
      ],
      "metadata": {
        "colab": {
          "base_uri": "https://localhost:8080/"
        },
        "id": "Er2seV5SjeWi",
        "outputId": "a17fd815-5d1f-4922-af7c-6d42a344604f"
      },
      "execution_count": 12,
      "outputs": [
        {
          "output_type": "stream",
          "name": "stdout",
          "text": [
            "341064\n",
            "341064\n"
          ]
        }
      ]
    },
    {
      "cell_type": "markdown",
      "source": [
        "# Building, compiling and training model"
      ],
      "metadata": {
        "id": "BXSjAfRbZ7Up"
      }
    },
    {
      "cell_type": "code",
      "source": [
        "from sklearn.pipeline import Pipeline\n",
        "from sklearn.feature_extraction.text import CountVectorizer, TfidfTransformer\n",
        "from sklearn.naive_bayes import MultinomialNB\n",
        "from sklearn.svm import SVC\n",
        "\n",
        "pipeline = Pipeline([\n",
        "    ('count_vectorizer', CountVectorizer()),  # Step 1: CountVectorizer\n",
        "    ('tfidf_transformer', TfidfTransformer()),  # Step 2: TF-IDF Transformer\n",
        "    ('naive_bayes', MultinomialNB())])\n",
        "\n",
        "pipeline.fit(X_train, y_train)\n",
        "\n",
        "y_pred= pipeline.predict(X_test)"
      ],
      "metadata": {
        "id": "xztL_ysPjxSE"
      },
      "execution_count": 13,
      "outputs": []
    },
    {
      "cell_type": "markdown",
      "source": [
        "# Evaluating model"
      ],
      "metadata": {
        "id": "4Htr4rYdbfOq"
      }
    },
    {
      "cell_type": "code",
      "source": [
        "from sklearn.metrics import classification_report\n",
        "print(classification_report(y_test,y_pred))"
      ],
      "metadata": {
        "colab": {
          "base_uri": "https://localhost:8080/"
        },
        "id": "c6vZ44jXbSC2",
        "outputId": "c37899ac-cfcb-44c6-e737-944ffec498e6"
      },
      "execution_count": 14,
      "outputs": [
        {
          "output_type": "stream",
          "name": "stdout",
          "text": [
            "              precision    recall  f1-score   support\n",
            "\n",
            "         0.0       0.93      0.99      0.96     91597\n",
            "         1.0       0.98      0.88      0.93     54574\n",
            "\n",
            "    accuracy                           0.95    146171\n",
            "   macro avg       0.96      0.93      0.94    146171\n",
            "weighted avg       0.95      0.95      0.95    146171\n",
            "\n"
          ]
        }
      ]
    },
    {
      "cell_type": "markdown",
      "source": [
        "# Plotting results"
      ],
      "metadata": {
        "id": "zQHO3hG4aE31"
      }
    },
    {
      "cell_type": "code",
      "source": [
        "import matplotlib.pyplot as plt\n",
        "from sklearn.metrics import confusion_matrix, ConfusionMatrixDisplay\n",
        "\n",
        "# Calculate confusion matrix\n",
        "cm = confusion_matrix(y_test, y_pred)\n",
        "\n",
        "# Plot confusion matrix\n",
        "disp = ConfusionMatrixDisplay(confusion_matrix=cm)\n",
        "disp.plot()\n",
        "plt.show()"
      ],
      "metadata": {
        "colab": {
          "base_uri": "https://localhost:8080/",
          "height": 452
        },
        "id": "LnxcXeBsA79m",
        "outputId": "16bf6ad2-5995-4e49-87d0-8f0a8b675f3e"
      },
      "execution_count": 15,
      "outputs": [
        {
          "output_type": "display_data",
          "data": {
            "text/plain": [
              "<Figure size 640x480 with 2 Axes>"
            ],
            "image/png": "[encoded data removed]"
          },
          "metadata": {}
        }
      ]
    },
    {
      "cell_type": "markdown",
      "source": [
        "# Predicting on real, custom data"
      ],
      "metadata": {
        "id": "J0L_Pm-qBe-X"
      }
    },
    {
      "cell_type": "code",
      "source": [
        "# Example custom texts\n",
        "custom_texts = [\"Supply increases when the price increases.\",\n",
        "                \"Certainly! Incorporating icebreaker activities that cater to both in-person and remote team members is essential for fostering a sense of inclusiveness and camaraderie.\"]\n",
        "\n",
        "# Make predictions\n",
        "custom_preds = pipeline.predict(custom_texts)\n",
        "\n",
        "# Output predictions\n",
        "for text, pred in zip(custom_texts, custom_preds):\n",
        "    print(f\"Text: {text}\\nPredicted: {'AI-generated (1.0)' if pred == 1 else 'Human-written (0.0)'}\\n\")\n",
        "\n",
        "# Get prediction probabilities\n",
        "custom_probs = pipeline.predict_proba(custom_texts)\n",
        "\n",
        "# Output prediction probabilities\n",
        "for text, probs in zip(custom_texts, custom_probs):\n",
        "    print(f\"Text: {text}\\nProbabilities: {probs}\\n\")"
      ],
      "metadata": {
        "colab": {
          "base_uri": "https://localhost:8080/"
        },
        "id": "OheKJhbBBhLR",
        "outputId": "2a91332b-a32c-4008-fc48-8c05bdf5ca93"
      },
      "execution_count": 16,
      "outputs": [
        {
          "output_type": "stream",
          "name": "stdout",
          "text": [
            "Text: Supply increases when the price increases.\n",
            "Predicted: Human-written (0.0)\n",
            "\n",
            "Text: Certainly! Incorporating icebreaker activities that cater to both in-person and remote team members is essential for fostering a sense of inclusiveness and camaraderie.\n",
            "Predicted: AI-generated (1.0)\n",
            "\n",
            "Text: Supply increases when the price increases.\n",
            "Probabilities: [0.58958127 0.41041873]\n",
            "\n",
            "Text: Certainly! Incorporating icebreaker activities that cater to both in-person and remote team members is essential for fostering a sense of inclusiveness and camaraderie.\n",
            "Probabilities: [0.00467589 0.99532411]\n",
            "\n"
          ]
        }
      ]
    },
    {
      "cell_type": "markdown",
      "source": [
        "# Saving model"
      ],
      "metadata": {
        "id": "CLnCW-CslBzX"
      }
    },
    {
      "cell_type": "code",
      "source": [
        "from joblib import dump\n",
        "\n",
        "# Save the pipeline model\n",
        "dump(pipeline, 'ai-human-detection.joblib')"
      ],
      "metadata": {
        "colab": {
          "base_uri": "https://localhost:8080/"
        },
        "id": "XsMxwplMlHS2",
        "outputId": "3c545cac-662b-4e4d-af1c-fe6b94f0bbf3"
      },
      "execution_count": 13,
      "outputs": [
        {
          "output_type": "execute_result",
          "data": {
            "text/plain": [
              "['ai-human-detection.joblib']"
            ]
          },
          "metadata": {},
          "execution_count": 13
        }
      ]
    }
  ]
}