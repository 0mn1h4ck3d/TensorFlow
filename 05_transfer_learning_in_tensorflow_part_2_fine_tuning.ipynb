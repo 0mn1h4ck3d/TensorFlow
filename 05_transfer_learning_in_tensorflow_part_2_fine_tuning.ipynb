{
  "nbformat": 4,
  "nbformat_minor": 0,
  "metadata": {
    "colab": {
      "provenance": [],
      "authorship_tag": "ABX9TyOURlz5o4kihm6PIBldbtDq",
      "include_colab_link": true
    },
    "kernelspec": {
      "name": "python3",
      "display_name": "Python 3"
    },
    "language_info": {
      "name": "python"
    },
    "accelerator": "GPU",
    "gpuClass": "standard"
  },
  "cells": [
    {
      "cell_type": "markdown",
      "metadata": {
        "id": "view-in-github",
        "colab_type": "text"
      },
      "source": [
        "<a href=\"https://colab.research.google.com/github/traizooo/TensorFlow/blob/main/05_transfer_learning_in_tensorflow_part_2_fine_tuning.ipynb\" target=\"_parent\"><img src=\"https://colab.research.google.com/assets/colab-badge.svg\" alt=\"Open In Colab\"/></a>"
      ]
    },
    {
      "cell_type": "markdown",
      "source": [
        "# Transfer learning with TensorFlow Part 2: Fine-tuning\n",
        "\n",
        "In the previous notebook, we covered transfer learning feature extraction, now it's time to learn about a new kind of transfer learning: **Fine-tuning**."
      ],
      "metadata": {
        "id": "AcYNAekrQhZ-"
      }
    },
    {
      "cell_type": "code",
      "execution_count": null,
      "metadata": {
        "colab": {
          "base_uri": "https://localhost:8080/"
        },
        "id": "6FrKbCLeQXHZ",
        "outputId": "7098ca2d-0b37-42b9-cb48-564cb261b2f2"
      },
      "outputs": [
        {
          "output_type": "stream",
          "name": "stdout",
          "text": [
            "Sun Mar 26 13:47:35 2023       \n",
            "+-----------------------------------------------------------------------------+\n",
            "| NVIDIA-SMI 525.85.12    Driver Version: 525.85.12    CUDA Version: 12.0     |\n",
            "|-------------------------------+----------------------+----------------------+\n",
            "| GPU  Name        Persistence-M| Bus-Id        Disp.A | Volatile Uncorr. ECC |\n",
            "| Fan  Temp  Perf  Pwr:Usage/Cap|         Memory-Usage | GPU-Util  Compute M. |\n",
            "|                               |                      |               MIG M. |\n",
            "|===============================+======================+======================|\n",
            "|   0  Tesla T4            Off  | 00000000:00:04.0 Off |                    0 |\n",
            "| N/A   52C    P8    10W /  70W |      0MiB / 15360MiB |      0%      Default |\n",
            "|                               |                      |                  N/A |\n",
            "+-------------------------------+----------------------+----------------------+\n",
            "                                                                               \n",
            "+-----------------------------------------------------------------------------+\n",
            "| Processes:                                                                  |\n",
            "|  GPU   GI   CI        PID   Type   Process name                  GPU Memory |\n",
            "|        ID   ID                                                   Usage      |\n",
            "|=============================================================================|\n",
            "|  No running processes found                                                 |\n",
            "+-----------------------------------------------------------------------------+\n"
          ]
        }
      ],
      "source": [
        "# Check if we're using a GPU\n",
        "!nvidia-smi"
      ]
    },
    {
      "cell_type": "markdown",
      "source": [
        "## Creating helper functions\n",
        "\n",
        "In previous notebooks we've created a bunch of helper functions, now we could rewrite them all, however, this is tedious.\n",
        "\n",
        "So, it's a good idea to put functions you'll want to use again in a script you can download and import into your notebooks (or elsewhere).\n",
        "\n",
        "We've done this for some of the functions with used previously here: [helper_functions.py](https://raw.githubusercontent.com/traizooo/TensorFlow/main/helper_functions.py)"
      ],
      "metadata": {
        "id": "jGhWohNmQ-Z1"
      }
    },
    {
      "cell_type": "code",
      "source": [
        "!wget https://raw.githubusercontent.com/traizooo/TensorFlow/main/helper_functions.py"
      ],
      "metadata": {
        "colab": {
          "base_uri": "https://localhost:8080/"
        },
        "id": "5DNL0jVKQ6qF",
        "outputId": "92fcac6f-5f5c-4f34-a8df-2d969e198e1e"
      },
      "execution_count": null,
      "outputs": [
        {
          "output_type": "stream",
          "name": "stdout",
          "text": [
            "--2023-03-26 13:47:36--  https://raw.githubusercontent.com/traizooo/TensorFlow/main/helper_functions.py\n",
            "Resolving raw.githubusercontent.com (raw.githubusercontent.com)... 185.199.108.133, 185.199.109.133, 185.199.110.133, ...\n",
            "Connecting to raw.githubusercontent.com (raw.githubusercontent.com)|185.199.108.133|:443... connected.\n",
            "HTTP request sent, awaiting response... 200 OK\n",
            "Length: 10235 (10.0K) [text/plain]\n",
            "Saving to: ‘helper_functions.py’\n",
            "\n",
            "helper_functions.py 100%[===================>]  10.00K  --.-KB/s    in 0s      \n",
            "\n",
            "2023-03-26 13:47:36 (57.2 MB/s) - ‘helper_functions.py’ saved [10235/10235]\n",
            "\n"
          ]
        }
      ]
    },
    {
      "cell_type": "code",
      "source": [
        "# Import helper functions we're going to use in this notebook\n",
        "from helper_functions import create_tensorboard_callback, plot_loss_curves, unzip_data, walk_through_dir"
      ],
      "metadata": {
        "id": "FBxkHQQ9Srje"
      },
      "execution_count": null,
      "outputs": []
    },
    {
      "cell_type": "markdown",
      "source": [
        "> 🔑 **Note:** If you're running this notebook in Google Colab, when it times out, Colab will delete `helper_functions.py`, so you'll have to redownload it if you want access to your helper functions."
      ],
      "metadata": {
        "id": "HRUet-crT9IX"
      }
    },
    {
      "cell_type": "markdown",
      "source": [
        "## Let's get some data\n",
        "\n",
        "This time we're going to see how we can use the pre-trained models within `tf.keras.applications` and apply them to our own problem (recognizing images of food)."
      ],
      "metadata": {
        "id": "lSugxXylUSQ0"
      }
    },
    {
      "cell_type": "code",
      "source": [
        "# Get 10% of training data of 10 classes of Food101\n",
        "!wget https://storage.googleapis.com/ztm_tf_course/food_vision/10_food_classes_10_percent.zip\n",
        "unzip_data(\"10_food_classes_10_percent.zip\")"
      ],
      "metadata": {
        "colab": {
          "base_uri": "https://localhost:8080/"
        },
        "id": "9PwoXyMtT2CH",
        "outputId": "039c99fc-4072-4b58-b09b-fe45732a1acc"
      },
      "execution_count": null,
      "outputs": [
        {
          "output_type": "stream",
          "name": "stdout",
          "text": [
            "--2023-03-26 13:47:41--  https://storage.googleapis.com/ztm_tf_course/food_vision/10_food_classes_10_percent.zip\n",
            "Resolving storage.googleapis.com (storage.googleapis.com)... 74.125.200.128, 74.125.68.128, 74.125.24.128, ...\n",
            "Connecting to storage.googleapis.com (storage.googleapis.com)|74.125.200.128|:443... connected.\n",
            "HTTP request sent, awaiting response... 200 OK\n",
            "Length: 168546183 (161M) [application/zip]\n",
            "Saving to: ‘10_food_classes_10_percent.zip’\n",
            "\n",
            "10_food_classes_10_ 100%[===================>] 160.74M  23.6MB/s    in 8.0s    \n",
            "\n",
            "2023-03-26 13:47:50 (20.2 MB/s) - ‘10_food_classes_10_percent.zip’ saved [168546183/168546183]\n",
            "\n"
          ]
        }
      ]
    },
    {
      "cell_type": "code",
      "source": [
        "# Check out how many images and subdirectories are in our dataset\n",
        "walk_through_dir(\"/content/10_food_classes_10_percent\")"
      ],
      "metadata": {
        "colab": {
          "base_uri": "https://localhost:8080/"
        },
        "id": "s1xPMNSlVPjv",
        "outputId": "aceaff45-21e5-4b55-f1f7-d435aeac795f"
      },
      "execution_count": null,
      "outputs": [
        {
          "output_type": "stream",
          "name": "stdout",
          "text": [
            "There are 2 directories and 0 images in '/content/10_food_classes_10_percent'.\n",
            "There are 10 directories and 0 images in '/content/10_food_classes_10_percent/test'.\n",
            "There are 0 directories and 250 images in '/content/10_food_classes_10_percent/test/ice_cream'.\n",
            "There are 0 directories and 250 images in '/content/10_food_classes_10_percent/test/ramen'.\n",
            "There are 0 directories and 250 images in '/content/10_food_classes_10_percent/test/hamburger'.\n",
            "There are 0 directories and 250 images in '/content/10_food_classes_10_percent/test/chicken_wings'.\n",
            "There are 0 directories and 250 images in '/content/10_food_classes_10_percent/test/steak'.\n",
            "There are 0 directories and 250 images in '/content/10_food_classes_10_percent/test/chicken_curry'.\n",
            "There are 0 directories and 250 images in '/content/10_food_classes_10_percent/test/grilled_salmon'.\n",
            "There are 0 directories and 250 images in '/content/10_food_classes_10_percent/test/pizza'.\n",
            "There are 0 directories and 250 images in '/content/10_food_classes_10_percent/test/fried_rice'.\n",
            "There are 0 directories and 250 images in '/content/10_food_classes_10_percent/test/sushi'.\n",
            "There are 10 directories and 0 images in '/content/10_food_classes_10_percent/train'.\n",
            "There are 0 directories and 75 images in '/content/10_food_classes_10_percent/train/ice_cream'.\n",
            "There are 0 directories and 75 images in '/content/10_food_classes_10_percent/train/ramen'.\n",
            "There are 0 directories and 75 images in '/content/10_food_classes_10_percent/train/hamburger'.\n",
            "There are 0 directories and 75 images in '/content/10_food_classes_10_percent/train/chicken_wings'.\n",
            "There are 0 directories and 75 images in '/content/10_food_classes_10_percent/train/steak'.\n",
            "There are 0 directories and 75 images in '/content/10_food_classes_10_percent/train/chicken_curry'.\n",
            "There are 0 directories and 75 images in '/content/10_food_classes_10_percent/train/grilled_salmon'.\n",
            "There are 0 directories and 75 images in '/content/10_food_classes_10_percent/train/pizza'.\n",
            "There are 0 directories and 75 images in '/content/10_food_classes_10_percent/train/fried_rice'.\n",
            "There are 0 directories and 75 images in '/content/10_food_classes_10_percent/train/sushi'.\n"
          ]
        }
      ]
    },
    {
      "cell_type": "code",
      "source": [
        "# Create training and test paths\n",
        "train_dir = \"/content/10_food_classes_10_percent/train\"\n",
        "test_dir = \"/content/10_food_classes_10_percent/test\""
      ],
      "metadata": {
        "id": "oG7j2QqfVlDL"
      },
      "execution_count": null,
      "outputs": []
    },
    {
      "cell_type": "code",
      "source": [
        "import tensorflow as tf\n",
        "\n",
        "# Create thresholds for image size and batch size\n",
        "IMG_SIZE = (224, 224)\n",
        "BATCH_SIZE = 32\n",
        "train_data_10_percent = tf.keras.preprocessing.image_dataset_from_directory(train_dir,\n",
        "                                                                            image_size=IMG_SIZE,\n",
        "                                                                            label_mode=\"categorical\",\n",
        "                                                                            batch_size=BATCH_SIZE)\n",
        "\n",
        "test_data_10_percent = tf.keras.preprocessing.image_dataset_from_directory(test_dir,\n",
        "                                                                            image_size=IMG_SIZE,\n",
        "                                                                            label_mode=\"categorical\",\n",
        "                                                                            batch_size=BATCH_SIZE)"
      ],
      "metadata": {
        "colab": {
          "base_uri": "https://localhost:8080/"
        },
        "id": "9Aa2pLsUV4su",
        "outputId": "48a2369a-62fc-4265-b76b-6c8db5973c5c"
      },
      "execution_count": null,
      "outputs": [
        {
          "output_type": "stream",
          "name": "stdout",
          "text": [
            "Found 750 files belonging to 10 classes.\n",
            "Found 2500 files belonging to 10 classes.\n"
          ]
        }
      ]
    },
    {
      "cell_type": "code",
      "source": [
        "train_data_10_percent"
      ],
      "metadata": {
        "colab": {
          "base_uri": "https://localhost:8080/"
        },
        "id": "uCIP3IECWRQg",
        "outputId": "8d24b16b-48b9-4375-a22a-f5b89926786d"
      },
      "execution_count": null,
      "outputs": [
        {
          "output_type": "execute_result",
          "data": {
            "text/plain": [
              "<BatchDataset element_spec=(TensorSpec(shape=(None, 224, 224, 3), dtype=tf.float32, name=None), TensorSpec(shape=(None, 10), dtype=tf.float32, name=None))>"
            ]
          },
          "metadata": {},
          "execution_count": 8
        }
      ]
    },
    {
      "cell_type": "code",
      "source": [
        "# Check out class names of our dataset\n",
        "train_data_10_percent.class_names"
      ],
      "metadata": {
        "colab": {
          "base_uri": "https://localhost:8080/"
        },
        "id": "6u2nP6B5XZVn",
        "outputId": "f1612822-1396-485a-da24-d903e3da2b8a"
      },
      "execution_count": null,
      "outputs": [
        {
          "output_type": "execute_result",
          "data": {
            "text/plain": [
              "['chicken_curry',\n",
              " 'chicken_wings',\n",
              " 'fried_rice',\n",
              " 'grilled_salmon',\n",
              " 'hamburger',\n",
              " 'ice_cream',\n",
              " 'pizza',\n",
              " 'ramen',\n",
              " 'steak',\n",
              " 'sushi']"
            ]
          },
          "metadata": {},
          "execution_count": 9
        }
      ]
    },
    {
      "cell_type": "code",
      "source": [
        "# See an example of a batch of data\n",
        "for images, labels in train_data_10_percent.take(1):\n",
        "  print(images, labels)"
      ],
      "metadata": {
        "colab": {
          "base_uri": "https://localhost:8080/"
        },
        "id": "WYZEfst8YWVG",
        "outputId": "2c1544b7-573c-4ac5-bae5-d791015c9a33"
      },
      "execution_count": null,
      "outputs": [
        {
          "output_type": "stream",
          "name": "stdout",
          "text": [
            "tf.Tensor(\n",
            "[[[[5.67704086e+01 4.07704086e+01 6.77040815e+00]\n",
            "   [5.60714302e+01 4.10714302e+01 8.07142830e+00]\n",
            "   [5.70000000e+01 4.20000000e+01 9.00000000e+00]\n",
            "   ...\n",
            "   [9.70000000e+01 1.13000000e+02 1.12000000e+02]\n",
            "   [9.60714111e+01 1.12071411e+02 1.11071411e+02]\n",
            "   [9.57704086e+01 1.11770409e+02 1.08770409e+02]]\n",
            "\n",
            "  [[5.81938782e+01 4.04030609e+01 9.19387817e+00]\n",
            "   [5.79336739e+01 4.10051003e+01 1.07908173e+01]\n",
            "   [5.87857132e+01 4.18010178e+01 1.17551022e+01]\n",
            "   ...\n",
            "   [9.77857056e+01 1.13785706e+02 1.12785706e+02]\n",
            "   [9.69336700e+01 1.12933670e+02 1.11933670e+02]\n",
            "   [9.60000000e+01 1.12000000e+02 1.09000000e+02]]\n",
            "\n",
            "  [[6.10000000e+01 4.00000000e+01 1.30000000e+01]\n",
            "   [6.02857170e+01 4.00714302e+01 1.30714283e+01]\n",
            "   [6.13826523e+01 4.17857132e+01 1.29336739e+01]\n",
            "   ...\n",
            "   [9.83367310e+01 1.14000000e+02 1.13168365e+02]\n",
            "   [9.70714111e+01 1.13071411e+02 1.12071411e+02]\n",
            "   [9.70000000e+01 1.13000000e+02 1.10000000e+02]]\n",
            "\n",
            "  ...\n",
            "\n",
            "  [[1.01214264e+02 9.02142639e+01 5.94999771e+01]\n",
            "   [1.02015305e+02 9.20867310e+01 5.68010178e+01]\n",
            "   [1.02214264e+02 9.32142639e+01 5.42142639e+01]\n",
            "   ...\n",
            "   [1.46168350e+02 1.38168350e+02 1.17168350e+02]\n",
            "   [1.45270370e+02 1.37270370e+02 1.16270370e+02]\n",
            "   [1.45214264e+02 1.37214264e+02 1.16214264e+02]]\n",
            "\n",
            "  [[9.89285583e+01 8.79285583e+01 5.72142715e+01]\n",
            "   [9.99285583e+01 8.99999847e+01 5.47142715e+01]\n",
            "   [9.99285583e+01 9.09285583e+01 5.19285583e+01]\n",
            "   ...\n",
            "   [1.44714264e+02 1.36714264e+02 1.15714264e+02]\n",
            "   [1.42999969e+02 1.34999969e+02 1.13999969e+02]\n",
            "   [1.42928558e+02 1.34928558e+02 1.13928558e+02]]\n",
            "\n",
            "  [[9.96428223e+01 8.59999619e+01 5.59285355e+01]\n",
            "   [9.96683350e+01 8.67397614e+01 5.24540482e+01]\n",
            "   [1.00000000e+02 8.80000000e+01 5.00000000e+01]\n",
            "   ...\n",
            "   [1.43428528e+02 1.35428528e+02 1.14428528e+02]\n",
            "   [1.41714233e+02 1.33714233e+02 1.12714233e+02]\n",
            "   [1.40770386e+02 1.32770386e+02 1.11770386e+02]]]\n",
            "\n",
            "\n",
            " [[[5.86122437e+01 4.96122437e+01 3.28673477e+01]\n",
            "   [6.24336739e+01 5.04336739e+01 3.44336739e+01]\n",
            "   [6.92704086e+01 5.45714302e+01 3.80663261e+01]\n",
            "   ...\n",
            "   [3.40511589e+01 5.91844845e+00 1.72756557e+01]\n",
            "   [4.20867882e+01 7.94390678e+00 2.19439068e+01]\n",
            "   [4.69285355e+01 8.92853642e+00 2.39285374e+01]]\n",
            "\n",
            "  [[6.74540863e+01 5.54285698e+01 4.23112259e+01]\n",
            "   [6.42040863e+01 5.10663261e+01 3.54897919e+01]\n",
            "   [6.61020432e+01 4.98877525e+01 3.46734657e+01]\n",
            "   ...\n",
            "   [3.99134865e+01 1.06429882e+01 2.04848480e+01]\n",
            "   [5.39795341e+01 2.05662346e+01 3.17040005e+01]\n",
            "   [4.74082031e+01 9.40820312e+00 2.24082031e+01]]\n",
            "\n",
            "  [[6.52806091e+01 5.13520393e+01 4.25000000e+01]\n",
            "   [6.71020432e+01 5.07448997e+01 4.02448959e+01]\n",
            "   [7.07397995e+01 5.29540825e+01 3.85255089e+01]\n",
            "   ...\n",
            "   [3.76685905e+01 7.35727406e+00 1.60766544e+01]\n",
            "   [5.28264465e+01 1.67141819e+01 2.71988869e+01]\n",
            "   [4.75664597e+01 7.99503040e+00 1.94236031e+01]]\n",
            "\n",
            "  ...\n",
            "\n",
            "  [[6.90663147e+01 5.80663147e+01 6.24949036e+01]\n",
            "   [6.46989975e+01 5.19132919e+01 5.82704086e+01]\n",
            "   [6.55765457e+01 4.83163452e+01 5.36275406e+01]\n",
            "   ...\n",
            "   [1.90596909e+02 1.83260147e+02 1.74663239e+02]\n",
            "   [1.91071442e+02 1.82071442e+02 1.74642853e+02]\n",
            "   [1.92000000e+02 1.83000000e+02 1.75571411e+02]]\n",
            "\n",
            "  [[6.70714111e+01 5.60714111e+01 6.20714111e+01]\n",
            "   [6.88010712e+01 5.68010674e+01 5.90765457e+01]\n",
            "   [6.86326904e+01 5.21888161e+01 5.23877487e+01]\n",
            "   ...\n",
            "   [1.90285675e+02 1.81714203e+02 1.72499939e+02]\n",
            "   [1.90142853e+02 1.81142853e+02 1.72142853e+02]\n",
            "   [1.91071411e+02 1.82071411e+02 1.73071411e+02]]\n",
            "\n",
            "  [[6.65867310e+01 5.55867348e+01 6.07602081e+01]\n",
            "   [6.88367386e+01 5.68367348e+01 5.77857208e+01]\n",
            "   [7.28571320e+01 5.82244720e+01 5.34948921e+01]\n",
            "   ...\n",
            "   [1.88433670e+02 1.80862198e+02 1.69647934e+02]\n",
            "   [1.88357147e+02 1.80357147e+02 1.69357147e+02]\n",
            "   [1.88127533e+02 1.80127533e+02 1.69127533e+02]]]\n",
            "\n",
            "\n",
            " [[[1.00000000e+01 2.00000000e+00 2.29591817e-01]\n",
            "   [9.38265324e+00 4.38265276e+00 1.38265300e+00]\n",
            "   [9.14285755e+00 4.14285755e+00 1.28571439e+00]\n",
            "   ...\n",
            "   [1.90943619e+02 1.81515091e+02 1.76300827e+02]\n",
            "   [1.88658356e+02 1.85137970e+02 1.80469604e+02]\n",
            "   [2.14219498e+02 2.14760345e+02 2.08989929e+02]]\n",
            "\n",
            "  [[1.14744911e+01 6.47449112e+00 3.47449064e+00]\n",
            "   [9.85714340e+00 4.85714340e+00 1.85714340e+00]\n",
            "   [1.06581631e+01 6.08673429e+00 2.65816259e+00]\n",
            "   ...\n",
            "   [1.95719299e+02 1.86290771e+02 1.81474426e+02]\n",
            "   [1.94459305e+02 1.91602188e+02 1.86602188e+02]\n",
            "   [2.19571747e+02 2.20571747e+02 2.15571747e+02]]\n",
            "\n",
            "  [[8.98979568e+00 4.20408154e+00 1.20408154e+00]\n",
            "   [9.00000000e+00 4.21428585e+00 1.21428585e+00]\n",
            "   [9.61734676e+00 5.83163261e+00 2.40306091e+00]\n",
            "   ...\n",
            "   [1.88494949e+02 1.78494949e+02 1.77663345e+02]\n",
            "   [1.97372437e+02 1.92459229e+02 1.90015335e+02]\n",
            "   [1.99775558e+02 1.99132736e+02 1.97132736e+02]]\n",
            "\n",
            "  ...\n",
            "\n",
            "  [[1.00000000e+00 3.00000000e+00 0.00000000e+00]\n",
            "   [1.00000000e+00 3.00000000e+00 0.00000000e+00]\n",
            "   [1.00000000e+00 3.00000000e+00 0.00000000e+00]\n",
            "   ...\n",
            "   [7.09181786e+00 9.00000000e+00 6.04590893e+00]\n",
            "   [1.08674908e+00 5.44395733e+00 1.65822124e+00]\n",
            "   [4.01014662e+00 8.36735535e+00 4.58161879e+00]]\n",
            "\n",
            "  [[9.28558350e-01 2.92855835e+00 0.00000000e+00]\n",
            "   [9.28558350e-01 2.92855835e+00 0.00000000e+00]\n",
            "   [9.28558350e-01 2.92855835e+00 0.00000000e+00]\n",
            "   ...\n",
            "   [4.21426392e+00 8.57147217e+00 4.78573608e+00]\n",
            "   [1.37779385e-01 5.13777924e+00 1.13777936e+00]\n",
            "   [6.42822266e-01 6.64282227e+00 2.64282227e+00]]\n",
            "\n",
            "  [[0.00000000e+00 2.00000000e+00 0.00000000e+00]\n",
            "   [0.00000000e+00 2.00000000e+00 0.00000000e+00]\n",
            "   [0.00000000e+00 2.00000000e+00 0.00000000e+00]\n",
            "   ...\n",
            "   [5.86223602e+00 1.02194443e+01 6.43370819e+00]\n",
            "   [7.14416504e-02 5.47454357e+00 1.47454369e+00]\n",
            "   [1.77039814e+00 7.77039814e+00 3.77039814e+00]]]\n",
            "\n",
            "\n",
            " ...\n",
            "\n",
            "\n",
            " [[[1.23714287e+02 1.04714287e+02 9.07142868e+01]\n",
            "   [1.24357140e+02 1.05357140e+02 9.03571396e+01]\n",
            "   [1.24357140e+02 1.05357140e+02 9.03571396e+01]\n",
            "   ...\n",
            "   [1.33622484e+01 1.89336586e+01 1.91479530e+01]\n",
            "   [1.70919018e+01 1.83061352e+01 2.02347240e+01]\n",
            "   [1.61989937e+01 1.54847088e+01 1.78418522e+01]]\n",
            "\n",
            "  [[1.22331627e+02 1.03331627e+02 8.83316269e+01]\n",
            "   [1.24000000e+02 1.05000000e+02 9.00000000e+01]\n",
            "   [1.25714287e+02 1.06714287e+02 9.17142868e+01]\n",
            "   ...\n",
            "   [1.87754784e+01 2.14285545e+01 2.03724327e+01]\n",
            "   [1.59897985e+01 1.99897976e+01 1.89897976e+01]\n",
            "   [1.51173458e+01 1.90255108e+01 1.80255108e+01]]\n",
            "\n",
            "  [[1.19142853e+02 1.00142853e+02 8.51428528e+01]\n",
            "   [1.21127556e+02 1.02127556e+02 8.66989822e+01]\n",
            "   [1.23571426e+02 1.04571426e+02 8.91428528e+01]\n",
            "   ...\n",
            "   [2.82397690e+01 2.19796066e+01 2.15510178e+01]\n",
            "   [2.27295361e+01 2.15560913e+01 1.93571091e+01]\n",
            "   [2.04897995e+01 2.33622379e+01 1.96428528e+01]]\n",
            "\n",
            "  ...\n",
            "\n",
            "  [[1.24132866e+02 1.14418625e+02 1.03709473e+02]\n",
            "   [1.15444092e+02 1.05015564e+02 9.30155640e+01]\n",
            "   [1.07714485e+02 9.72859573e+01 8.52859573e+01]\n",
            "   ...\n",
            "   [8.45255890e+01 8.61683807e+01 8.96173553e+01]\n",
            "   [8.46122818e+01 8.62550735e+01 8.84693375e+01]\n",
            "   [8.48520355e+01 8.59846344e+01 8.82754211e+01]]\n",
            "\n",
            "  [[1.46168427e+02 1.40974564e+02 1.28974564e+02]\n",
            "   [1.38928604e+02 1.33071487e+02 1.21071495e+02]\n",
            "   [1.31566422e+02 1.25597031e+02 1.13597031e+02]\n",
            "   ...\n",
            "   [8.51581650e+01 8.31581650e+01 8.61581650e+01]\n",
            "   [8.60000000e+01 8.40000000e+01 8.70000000e+01]\n",
            "   [8.42397766e+01 8.22397766e+01 8.52397766e+01]]\n",
            "\n",
            "  [[1.57071701e+02 1.55071701e+02 1.42071701e+02]\n",
            "   [1.48311478e+02 1.46311478e+02 1.33311478e+02]\n",
            "   [1.46138062e+02 1.42566635e+02 1.30352341e+02]\n",
            "   ...\n",
            "   [8.36274948e+01 7.86274948e+01 8.26274948e+01]\n",
            "   [7.94588394e+01 7.44588394e+01 7.84588394e+01]\n",
            "   [6.70403442e+01 6.20403481e+01 6.60403442e+01]]]\n",
            "\n",
            "\n",
            " [[[7.90000000e+01 3.50000000e+01 1.00000000e+01]\n",
            "   [7.70000000e+01 3.60000000e+01 8.00000000e+00]\n",
            "   [7.70000000e+01 3.60000000e+01 5.01020384e+00]\n",
            "   ...\n",
            "   [5.00000000e+00 0.00000000e+00 0.00000000e+00]\n",
            "   [5.00000000e+00 0.00000000e+00 0.00000000e+00]\n",
            "   [5.00000000e+00 0.00000000e+00 0.00000000e+00]]\n",
            "\n",
            "  [[7.70000000e+01 3.50459175e+01 9.90816307e+00]\n",
            "   [7.70000000e+01 3.60000000e+01 7.86734676e+00]\n",
            "   [7.70714264e+01 3.60867348e+01 4.04081631e+00]\n",
            "   ...\n",
            "   [5.00000000e+00 0.00000000e+00 0.00000000e+00]\n",
            "   [5.00000000e+00 0.00000000e+00 0.00000000e+00]\n",
            "   [5.00000000e+00 0.00000000e+00 0.00000000e+00]]\n",
            "\n",
            "  [[7.62142868e+01 3.67091827e+01 8.15306091e+00]\n",
            "   [7.69438782e+01 3.75153084e+01 6.87244844e+00]\n",
            "   [7.83367386e+01 3.70459175e+01 4.57142830e+00]\n",
            "   ...\n",
            "   [5.00000000e+00 0.00000000e+00 0.00000000e+00]\n",
            "   [5.00000000e+00 0.00000000e+00 0.00000000e+00]\n",
            "   [5.00000000e+00 0.00000000e+00 0.00000000e+00]]\n",
            "\n",
            "  ...\n",
            "\n",
            "  [[2.24000000e+02 1.66000000e+02 6.60000000e+01]\n",
            "   [2.23000000e+02 1.68000000e+02 6.70000000e+01]\n",
            "   [2.25214279e+02 1.70214279e+02 6.92142868e+01]\n",
            "   ...\n",
            "   [2.19739822e+02 1.71382614e+02 7.81683502e+01]\n",
            "   [2.18714264e+02 1.69714264e+02 7.67142639e+01]\n",
            "   [2.17923462e+02 1.66923462e+02 7.49234619e+01]]\n",
            "\n",
            "  [[2.24000000e+02 1.66000000e+02 6.60000000e+01]\n",
            "   [2.23000000e+02 1.68000000e+02 6.70000000e+01]\n",
            "   [2.25214279e+02 1.70214279e+02 6.92142868e+01]\n",
            "   ...\n",
            "   [2.18841843e+02 1.70484634e+02 7.72703705e+01]\n",
            "   [2.17928558e+02 1.68928558e+02 7.59285583e+01]\n",
            "   [2.17045898e+02 1.66045898e+02 7.40459061e+01]]\n",
            "\n",
            "  [[2.24000000e+02 1.66000000e+02 6.60000000e+01]\n",
            "   [2.23000000e+02 1.68000000e+02 6.70000000e+01]\n",
            "   [2.25214279e+02 1.70214279e+02 6.92142868e+01]\n",
            "   ...\n",
            "   [2.18571472e+02 1.70214264e+02 7.70000000e+01]\n",
            "   [2.16928558e+02 1.67928558e+02 7.49285583e+01]\n",
            "   [2.16642822e+02 1.65642822e+02 7.36428223e+01]]]\n",
            "\n",
            "\n",
            " [[[3.00000000e+00 2.00000000e+00 0.00000000e+00]\n",
            "   [2.07142830e+00 1.07142830e+00 0.00000000e+00]\n",
            "   [1.92346931e+00 9.23469365e-01 0.00000000e+00]\n",
            "   ...\n",
            "   [8.35714245e+00 3.35714293e+00 3.57142806e-01]\n",
            "   [7.35714293e+00 2.35714293e+00 0.00000000e+00]\n",
            "   [7.00000000e+00 2.00000000e+00 0.00000000e+00]]\n",
            "\n",
            "  [[2.07142830e+00 1.07142830e+00 0.00000000e+00]\n",
            "   [2.00510192e+00 1.00510204e+00 0.00000000e+00]\n",
            "   [2.00000000e+00 1.00000000e+00 0.00000000e+00]\n",
            "   ...\n",
            "   [8.00000000e+00 3.00000000e+00 0.00000000e+00]\n",
            "   [7.92857170e+00 2.92857170e+00 0.00000000e+00]\n",
            "   [7.92857170e+00 2.92857170e+00 0.00000000e+00]]\n",
            "\n",
            "  [[1.92346931e+00 9.23469365e-01 0.00000000e+00]\n",
            "   [2.00000000e+00 1.00000000e+00 0.00000000e+00]\n",
            "   [3.00000000e+00 2.00000000e+00 0.00000000e+00]\n",
            "   ...\n",
            "   [8.95408630e+00 3.95408630e+00 9.54086304e-01]\n",
            "   [9.80102348e+00 4.80102301e+00 1.80102313e+00]\n",
            "   [1.00000000e+01 5.00000000e+00 2.00000000e+00]]\n",
            "\n",
            "  ...\n",
            "\n",
            "  [[1.65076538e+02 1.58076538e+02 1.42076538e+02]\n",
            "   [1.63872467e+02 1.56872467e+02 1.40872467e+02]\n",
            "   [1.61142883e+02 1.55142883e+02 1.41142883e+02]\n",
            "   ...\n",
            "   [2.37617386e+02 2.38617386e+02 2.30617386e+02]\n",
            "   [2.36158127e+02 2.37158127e+02 2.29158127e+02]\n",
            "   [2.36775558e+02 2.37775558e+02 2.29775558e+02]]\n",
            "\n",
            "  [[1.59811264e+02 1.52811264e+02 1.36811264e+02]\n",
            "   [1.58938751e+02 1.51938751e+02 1.35938751e+02]\n",
            "   [1.59658142e+02 1.53658142e+02 1.39658142e+02]\n",
            "   ...\n",
            "   [2.36357208e+02 2.39357208e+02 2.30357208e+02]\n",
            "   [2.34000000e+02 2.37000000e+02 2.28000000e+02]\n",
            "   [2.34688843e+02 2.37688843e+02 2.28688843e+02]]\n",
            "\n",
            "  [[1.62214188e+02 1.55214188e+02 1.39214188e+02]\n",
            "   [1.54545837e+02 1.47545837e+02 1.31545837e+02]\n",
            "   [1.57505112e+02 1.51505112e+02 1.37505112e+02]\n",
            "   ...\n",
            "   [2.35785736e+02 2.38785736e+02 2.29785736e+02]\n",
            "   [2.36285736e+02 2.39285736e+02 2.30285736e+02]\n",
            "   [2.33515244e+02 2.36515244e+02 2.27515244e+02]]]], shape=(32, 224, 224, 3), dtype=float32) tf.Tensor(\n",
            "[[0. 1. 0. 0. 0. 0. 0. 0. 0. 0.]\n",
            " [1. 0. 0. 0. 0. 0. 0. 0. 0. 0.]\n",
            " [1. 0. 0. 0. 0. 0. 0. 0. 0. 0.]\n",
            " [0. 0. 0. 0. 0. 0. 0. 1. 0. 0.]\n",
            " [0. 0. 0. 0. 1. 0. 0. 0. 0. 0.]\n",
            " [0. 0. 1. 0. 0. 0. 0. 0. 0. 0.]\n",
            " [0. 0. 0. 0. 0. 0. 1. 0. 0. 0.]\n",
            " [0. 0. 0. 0. 0. 0. 1. 0. 0. 0.]\n",
            " [0. 0. 0. 0. 0. 0. 0. 1. 0. 0.]\n",
            " [0. 0. 0. 0. 0. 1. 0. 0. 0. 0.]\n",
            " [0. 0. 0. 0. 0. 0. 1. 0. 0. 0.]\n",
            " [0. 0. 0. 1. 0. 0. 0. 0. 0. 0.]\n",
            " [0. 1. 0. 0. 0. 0. 0. 0. 0. 0.]\n",
            " [0. 0. 0. 0. 0. 1. 0. 0. 0. 0.]\n",
            " [0. 0. 0. 1. 0. 0. 0. 0. 0. 0.]\n",
            " [0. 1. 0. 0. 0. 0. 0. 0. 0. 0.]\n",
            " [0. 0. 0. 0. 0. 0. 1. 0. 0. 0.]\n",
            " [0. 0. 0. 0. 1. 0. 0. 0. 0. 0.]\n",
            " [1. 0. 0. 0. 0. 0. 0. 0. 0. 0.]\n",
            " [0. 0. 0. 0. 0. 0. 0. 0. 0. 1.]\n",
            " [0. 0. 0. 0. 0. 0. 0. 0. 0. 1.]\n",
            " [0. 0. 0. 0. 0. 0. 0. 0. 1. 0.]\n",
            " [0. 0. 0. 0. 0. 0. 1. 0. 0. 0.]\n",
            " [0. 0. 0. 0. 0. 0. 0. 0. 1. 0.]\n",
            " [0. 0. 1. 0. 0. 0. 0. 0. 0. 0.]\n",
            " [0. 1. 0. 0. 0. 0. 0. 0. 0. 0.]\n",
            " [0. 0. 0. 0. 0. 0. 0. 1. 0. 0.]\n",
            " [0. 0. 0. 1. 0. 0. 0. 0. 0. 0.]\n",
            " [0. 0. 0. 1. 0. 0. 0. 0. 0. 0.]\n",
            " [0. 0. 1. 0. 0. 0. 0. 0. 0. 0.]\n",
            " [0. 0. 0. 1. 0. 0. 0. 0. 0. 0.]\n",
            " [0. 1. 0. 0. 0. 0. 0. 0. 0. 0.]], shape=(32, 10), dtype=float32)\n"
          ]
        }
      ]
    },
    {
      "cell_type": "markdown",
      "source": [
        "## Model 0: Building a transfer learning model using the Keras Functional API\n",
        "\n",
        "The sequential API is straight forward, it runs our layers in sequential order\n",
        "\n",
        "But functional API gives us more flexibility with our models."
      ],
      "metadata": {
        "id": "1WpMdzGWLmvJ"
      }
    },
    {
      "cell_type": "code",
      "source": [
        "# Create a base model with tf.keras.applications\n",
        "base_model = tf.keras.applications.EfficientNetB0(include_top=False)\n",
        "\n",
        "# Freeze the base model (so the underlying pre-trained patterns aren't updated during training)\n",
        "base_model.trainable = False\n",
        "\n",
        "# Create inputs into our model\n",
        "inputs = tf.keras.layers.Input(shape=(224, 224, 3), name=\"input_layer\")\n",
        "\n",
        "# If using ResNet50V2 you will need to normalize inputs\n",
        "#x = tf.keras.layers.experimental.preprocessing.Rescaling(1./255)(inputs)\n",
        "\n",
        "# Pass the inputs to the base model\n",
        "x = base_model(inputs)\n",
        "print(f\"Shape after passing inputs through base model: {x.shape}\")\n",
        "\n",
        "# Average pool the outputs of the base model\n",
        "x = tf.keras.layers.GlobalAveragePooling2D(name=\"global_average_pooling_layer\")(x)\n",
        "print(f\"Shape after GlobalAveragePooling2D: {x.shape}\")\n",
        "\n",
        "# Create the output activation layer\n",
        "outputs = tf.keras.layers.Dense(10, activation=\"softmax\", name=\"output_layer\")(x)\n",
        "\n",
        "# Combine the inputs with the outputs into a model\n",
        "model_0 = tf.keras.Model(inputs, outputs)\n",
        "\n",
        "# Compile model\n",
        "model_0.compile(\n",
        "    loss = tf.keras.losses.CategoricalCrossentropy(),\n",
        "    optimizer = tf.keras.optimizers.Adam(),\n",
        "    metrics = [\"accuracy\"]\n",
        ")\n",
        "\n",
        "# Fit the model\n",
        "history_10_percent = model_0.fit(train_data_10_percent,\n",
        "                                 epochs=5,\n",
        "                                 steps_per_epoch=len(train_data_10_percent),\n",
        "                                 validation_data = test_data_10_percent,\n",
        "                                 validation_steps = (0.25 * len(test_data_10_percent)),\n",
        "                                 callbacks=[create_tensorboard_callback(dir_name=\"transfer_learning\",\n",
        "                                                                        experiment_name=\"10_percent_feature_extraction\")])"
      ],
      "metadata": {
        "id": "hC9dTHMtYmEU",
        "colab": {
          "base_uri": "https://localhost:8080/"
        },
        "outputId": "e7ab2ee8-c870-414d-f4c0-6956ba74269d"
      },
      "execution_count": null,
      "outputs": [
        {
          "output_type": "stream",
          "name": "stderr",
          "text": [
            "WARNING:tensorflow:Model failed to serialize as JSON. Ignoring... Unable to serialize [2.0896919 2.1128857 2.1081853] to JSON. Unrecognized type <class 'tensorflow.python.framework.ops.EagerTensor'>.\n"
          ]
        },
        {
          "output_type": "stream",
          "name": "stdout",
          "text": [
            "Shape after passing inputs through base model: (None, 7, 7, 1280)\n",
            "Shape after GlobalAveragePooling2D: (None, 1280)\n",
            "Saving TensorBoard log files to: transfer_learning/10_percent_feature_extraction/20230326-140613\n",
            "Epoch 1/5\n",
            "24/24 [==============================] - 22s 260ms/step - loss: 1.9077 - accuracy: 0.4067 - val_loss: 1.3389 - val_accuracy: 0.7312\n",
            "Epoch 2/5\n",
            "24/24 [==============================] - 5s 201ms/step - loss: 1.1108 - accuracy: 0.7680 - val_loss: 0.9064 - val_accuracy: 0.8109\n",
            "Epoch 3/5\n",
            "24/24 [==============================] - 4s 165ms/step - loss: 0.7876 - accuracy: 0.8333 - val_loss: 0.6981 - val_accuracy: 0.8719\n",
            "Epoch 4/5\n",
            "24/24 [==============================] - 5s 173ms/step - loss: 0.6304 - accuracy: 0.8693 - val_loss: 0.6187 - val_accuracy: 0.8766\n",
            "Epoch 5/5\n",
            "24/24 [==============================] - 4s 138ms/step - loss: 0.5521 - accuracy: 0.8760 - val_loss: 0.5547 - val_accuracy: 0.8719\n"
          ]
        }
      ]
    },
    {
      "cell_type": "code",
      "source": [
        "# Evaluate on full test dataset\n",
        "model_0.evaluate(test_data_10_percent)"
      ],
      "metadata": {
        "colab": {
          "base_uri": "https://localhost:8080/"
        },
        "id": "KZaSEZJVOo95",
        "outputId": "a9b94e4e-da02-4977-a372-1692bfcdfed9"
      },
      "execution_count": null,
      "outputs": [
        {
          "output_type": "stream",
          "name": "stdout",
          "text": [
            "79/79 [==============================] - 7s 73ms/step - loss: 0.5557 - accuracy: 0.8648\n"
          ]
        },
        {
          "output_type": "execute_result",
          "data": {
            "text/plain": [
              "[0.555748701095581, 0.864799976348877]"
            ]
          },
          "metadata": {},
          "execution_count": 16
        }
      ]
    },
    {
      "cell_type": "code",
      "source": [
        "# Check the layers in our base model\n",
        "for layer_number, layer in enumerate(base_model.layers):\n",
        "  print(layer_number, layer.name)"
      ],
      "metadata": {
        "colab": {
          "base_uri": "https://localhost:8080/"
        },
        "id": "jR2FA3fjP6Of",
        "outputId": "ea19a88d-e1e7-463b-ae8e-53089755e4f1"
      },
      "execution_count": null,
      "outputs": [
        {
          "output_type": "stream",
          "name": "stdout",
          "text": [
            "0 input_6\n",
            "1 rescaling_10\n",
            "2 normalization_5\n",
            "3 rescaling_11\n",
            "4 stem_conv_pad\n",
            "5 stem_conv\n",
            "6 stem_bn\n",
            "7 stem_activation\n",
            "8 block1a_dwconv\n",
            "9 block1a_bn\n",
            "10 block1a_activation\n",
            "11 block1a_se_squeeze\n",
            "12 block1a_se_reshape\n",
            "13 block1a_se_reduce\n",
            "14 block1a_se_expand\n",
            "15 block1a_se_excite\n",
            "16 block1a_project_conv\n",
            "17 block1a_project_bn\n",
            "18 block2a_expand_conv\n",
            "19 block2a_expand_bn\n",
            "20 block2a_expand_activation\n",
            "21 block2a_dwconv_pad\n",
            "22 block2a_dwconv\n",
            "23 block2a_bn\n",
            "24 block2a_activation\n",
            "25 block2a_se_squeeze\n",
            "26 block2a_se_reshape\n",
            "27 block2a_se_reduce\n",
            "28 block2a_se_expand\n",
            "29 block2a_se_excite\n",
            "30 block2a_project_conv\n",
            "31 block2a_project_bn\n",
            "32 block2b_expand_conv\n",
            "33 block2b_expand_bn\n",
            "34 block2b_expand_activation\n",
            "35 block2b_dwconv\n",
            "36 block2b_bn\n",
            "37 block2b_activation\n",
            "38 block2b_se_squeeze\n",
            "39 block2b_se_reshape\n",
            "40 block2b_se_reduce\n",
            "41 block2b_se_expand\n",
            "42 block2b_se_excite\n",
            "43 block2b_project_conv\n",
            "44 block2b_project_bn\n",
            "45 block2b_drop\n",
            "46 block2b_add\n",
            "47 block3a_expand_conv\n",
            "48 block3a_expand_bn\n",
            "49 block3a_expand_activation\n",
            "50 block3a_dwconv_pad\n",
            "51 block3a_dwconv\n",
            "52 block3a_bn\n",
            "53 block3a_activation\n",
            "54 block3a_se_squeeze\n",
            "55 block3a_se_reshape\n",
            "56 block3a_se_reduce\n",
            "57 block3a_se_expand\n",
            "58 block3a_se_excite\n",
            "59 block3a_project_conv\n",
            "60 block3a_project_bn\n",
            "61 block3b_expand_conv\n",
            "62 block3b_expand_bn\n",
            "63 block3b_expand_activation\n",
            "64 block3b_dwconv\n",
            "65 block3b_bn\n",
            "66 block3b_activation\n",
            "67 block3b_se_squeeze\n",
            "68 block3b_se_reshape\n",
            "69 block3b_se_reduce\n",
            "70 block3b_se_expand\n",
            "71 block3b_se_excite\n",
            "72 block3b_project_conv\n",
            "73 block3b_project_bn\n",
            "74 block3b_drop\n",
            "75 block3b_add\n",
            "76 block4a_expand_conv\n",
            "77 block4a_expand_bn\n",
            "78 block4a_expand_activation\n",
            "79 block4a_dwconv_pad\n",
            "80 block4a_dwconv\n",
            "81 block4a_bn\n",
            "82 block4a_activation\n",
            "83 block4a_se_squeeze\n",
            "84 block4a_se_reshape\n",
            "85 block4a_se_reduce\n",
            "86 block4a_se_expand\n",
            "87 block4a_se_excite\n",
            "88 block4a_project_conv\n",
            "89 block4a_project_bn\n",
            "90 block4b_expand_conv\n",
            "91 block4b_expand_bn\n",
            "92 block4b_expand_activation\n",
            "93 block4b_dwconv\n",
            "94 block4b_bn\n",
            "95 block4b_activation\n",
            "96 block4b_se_squeeze\n",
            "97 block4b_se_reshape\n",
            "98 block4b_se_reduce\n",
            "99 block4b_se_expand\n",
            "100 block4b_se_excite\n",
            "101 block4b_project_conv\n",
            "102 block4b_project_bn\n",
            "103 block4b_drop\n",
            "104 block4b_add\n",
            "105 block4c_expand_conv\n",
            "106 block4c_expand_bn\n",
            "107 block4c_expand_activation\n",
            "108 block4c_dwconv\n",
            "109 block4c_bn\n",
            "110 block4c_activation\n",
            "111 block4c_se_squeeze\n",
            "112 block4c_se_reshape\n",
            "113 block4c_se_reduce\n",
            "114 block4c_se_expand\n",
            "115 block4c_se_excite\n",
            "116 block4c_project_conv\n",
            "117 block4c_project_bn\n",
            "118 block4c_drop\n",
            "119 block4c_add\n",
            "120 block5a_expand_conv\n",
            "121 block5a_expand_bn\n",
            "122 block5a_expand_activation\n",
            "123 block5a_dwconv\n",
            "124 block5a_bn\n",
            "125 block5a_activation\n",
            "126 block5a_se_squeeze\n",
            "127 block5a_se_reshape\n",
            "128 block5a_se_reduce\n",
            "129 block5a_se_expand\n",
            "130 block5a_se_excite\n",
            "131 block5a_project_conv\n",
            "132 block5a_project_bn\n",
            "133 block5b_expand_conv\n",
            "134 block5b_expand_bn\n",
            "135 block5b_expand_activation\n",
            "136 block5b_dwconv\n",
            "137 block5b_bn\n",
            "138 block5b_activation\n",
            "139 block5b_se_squeeze\n",
            "140 block5b_se_reshape\n",
            "141 block5b_se_reduce\n",
            "142 block5b_se_expand\n",
            "143 block5b_se_excite\n",
            "144 block5b_project_conv\n",
            "145 block5b_project_bn\n",
            "146 block5b_drop\n",
            "147 block5b_add\n",
            "148 block5c_expand_conv\n",
            "149 block5c_expand_bn\n",
            "150 block5c_expand_activation\n",
            "151 block5c_dwconv\n",
            "152 block5c_bn\n",
            "153 block5c_activation\n",
            "154 block5c_se_squeeze\n",
            "155 block5c_se_reshape\n",
            "156 block5c_se_reduce\n",
            "157 block5c_se_expand\n",
            "158 block5c_se_excite\n",
            "159 block5c_project_conv\n",
            "160 block5c_project_bn\n",
            "161 block5c_drop\n",
            "162 block5c_add\n",
            "163 block6a_expand_conv\n",
            "164 block6a_expand_bn\n",
            "165 block6a_expand_activation\n",
            "166 block6a_dwconv_pad\n",
            "167 block6a_dwconv\n",
            "168 block6a_bn\n",
            "169 block6a_activation\n",
            "170 block6a_se_squeeze\n",
            "171 block6a_se_reshape\n",
            "172 block6a_se_reduce\n",
            "173 block6a_se_expand\n",
            "174 block6a_se_excite\n",
            "175 block6a_project_conv\n",
            "176 block6a_project_bn\n",
            "177 block6b_expand_conv\n",
            "178 block6b_expand_bn\n",
            "179 block6b_expand_activation\n",
            "180 block6b_dwconv\n",
            "181 block6b_bn\n",
            "182 block6b_activation\n",
            "183 block6b_se_squeeze\n",
            "184 block6b_se_reshape\n",
            "185 block6b_se_reduce\n",
            "186 block6b_se_expand\n",
            "187 block6b_se_excite\n",
            "188 block6b_project_conv\n",
            "189 block6b_project_bn\n",
            "190 block6b_drop\n",
            "191 block6b_add\n",
            "192 block6c_expand_conv\n",
            "193 block6c_expand_bn\n",
            "194 block6c_expand_activation\n",
            "195 block6c_dwconv\n",
            "196 block6c_bn\n",
            "197 block6c_activation\n",
            "198 block6c_se_squeeze\n",
            "199 block6c_se_reshape\n",
            "200 block6c_se_reduce\n",
            "201 block6c_se_expand\n",
            "202 block6c_se_excite\n",
            "203 block6c_project_conv\n",
            "204 block6c_project_bn\n",
            "205 block6c_drop\n",
            "206 block6c_add\n",
            "207 block6d_expand_conv\n",
            "208 block6d_expand_bn\n",
            "209 block6d_expand_activation\n",
            "210 block6d_dwconv\n",
            "211 block6d_bn\n",
            "212 block6d_activation\n",
            "213 block6d_se_squeeze\n",
            "214 block6d_se_reshape\n",
            "215 block6d_se_reduce\n",
            "216 block6d_se_expand\n",
            "217 block6d_se_excite\n",
            "218 block6d_project_conv\n",
            "219 block6d_project_bn\n",
            "220 block6d_drop\n",
            "221 block6d_add\n",
            "222 block7a_expand_conv\n",
            "223 block7a_expand_bn\n",
            "224 block7a_expand_activation\n",
            "225 block7a_dwconv\n",
            "226 block7a_bn\n",
            "227 block7a_activation\n",
            "228 block7a_se_squeeze\n",
            "229 block7a_se_reshape\n",
            "230 block7a_se_reduce\n",
            "231 block7a_se_expand\n",
            "232 block7a_se_excite\n",
            "233 block7a_project_conv\n",
            "234 block7a_project_bn\n",
            "235 top_conv\n",
            "236 top_bn\n",
            "237 top_activation\n"
          ]
        }
      ]
    },
    {
      "cell_type": "code",
      "source": [
        "# Check out our models training curves\n",
        "plot_loss_curves(history_10_percent)"
      ],
      "metadata": {
        "colab": {
          "base_uri": "https://localhost:8080/",
          "height": 573
        },
        "id": "Us1irKzOQLLh",
        "outputId": "ef99119a-b931-48de-c2d6-a590044fddb0"
      },
      "execution_count": null,
      "outputs": [
        {
          "output_type": "display_data",
          "data": {
            "text/plain": [
              "<Figure size 432x288 with 1 Axes>"
            ],
            "image/png": "[encoded data removed]"
          },
          "metadata": {
            "needs_background": "light"
          }
        },
        {
          "output_type": "display_data",
          "data": {
            "text/plain": [
              "<Figure size 432x288 with 1 Axes>"
            ],
            "image/png": "[encoded data removed]"
          },
          "metadata": {
            "needs_background": "light"
          }
        }
      ]
    },
    {
      "cell_type": "code",
      "source": [],
      "metadata": {
        "id": "u4Rp9xEiQY8F"
      },
      "execution_count": null,
      "outputs": []
    }
  ]
}